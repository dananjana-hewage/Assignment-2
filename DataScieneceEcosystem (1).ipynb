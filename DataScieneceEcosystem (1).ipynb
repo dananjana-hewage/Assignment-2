{
  "nbformat": 4,
  "nbformat_minor": 0,
  "metadata": {
    "colab": {
      "provenance": []
    },
    "kernelspec": {
      "name": "python3",
      "display_name": "Python 3"
    },
    "language_info": {
      "name": "python"
    }
  },
  "cells": [
    {
      "cell_type": "markdown",
      "source": [
        "# Data Science Tools and Ecosystem"
      ],
      "metadata": {
        "id": "14bJGdpmeDzf"
      }
    },
    {
      "cell_type": "markdown",
      "source": [
        "In this notebook, Data Science Tools and Ecosystem are summarized."
      ],
      "metadata": {
        "id": "J-CT2tP1hpCy"
      }
    },
    {
      "cell_type": "markdown",
      "source": [
        "**Objectives:**\n",
        "* List popular languages that data scientists use\n",
        "* Commonly used libraries\n",
        "* List of data science tools\n",
        "* Simple Arithmetic Expressions\n",
        "\n"
      ],
      "metadata": {
        "id": "WgMevj74yuiW"
      }
    },
    {
      "cell_type": "markdown",
      "source": [
        "Some of the popular languages that Data Scientists use are\n",
        "1. Pyhton\n",
        "2. Java\n",
        "3. C++"
      ],
      "metadata": {
        "id": "UqK-BXlUiS_J"
      }
    },
    {
      "cell_type": "markdown",
      "source": [
        "Some of the commonly used libraries used by Data Scientists include:\n",
        "1. Pandas\n",
        "2. MatPlotlib\n",
        "3. NumPy\n"
      ],
      "metadata": {
        "id": "YWbrUD64j2Yt"
      }
    },
    {
      "cell_type": "markdown",
      "source": [
        "| Data Science Tools |\n",
        "----------------------\n",
        "|RStudio             |\n",
        "----------------------\n",
        "|Jupyter Notebook    |\n",
        "----------------------\n",
        "|Git                 |\n",
        "----------------------"
      ],
      "metadata": {
        "id": "wwgzkV_-l_xs"
      }
    },
    {
      "cell_type": "markdown",
      "source": [
        "###Below are a few examples of evaluating arithmetic expressions in Python"
      ],
      "metadata": {
        "id": "v_Hbj0rtD2B0"
      }
    },
    {
      "cell_type": "code",
      "source": [
        "# This a simple arithmetic expression to mutiply then add integers\n",
        "(3*4)+5"
      ],
      "metadata": {
        "colab": {
          "base_uri": "https://localhost:8080/"
        },
        "id": "smX3JYsCuRn7",
        "outputId": "b12ed96e-26f9-4e6b-f1d4-08e1970fb6c4"
      },
      "execution_count": 2,
      "outputs": [
        {
          "output_type": "execute_result",
          "data": {
            "text/plain": [
              "17"
            ]
          },
          "metadata": {},
          "execution_count": 2
        }
      ]
    },
    {
      "cell_type": "code",
      "source": [
        "#This will convert 200 minutes to hours by diving by 60\n",
        "200/60"
      ],
      "metadata": {
        "colab": {
          "base_uri": "https://localhost:8080/"
        },
        "id": "49HqG_ZGx0XN",
        "outputId": "f1cf4c09-f616-4250-8bf7-3b882a397418"
      },
      "execution_count": 3,
      "outputs": [
        {
          "output_type": "execute_result",
          "data": {
            "text/plain": [
              "3.3333333333333335"
            ]
          },
          "metadata": {},
          "execution_count": 3
        }
      ]
    },
    {
      "cell_type": "markdown",
      "source": [
        "## Author\n",
        "Buddhini Dananjana"
      ],
      "metadata": {
        "id": "RHR4f6Vp0-mK"
      }
    }
  ]
}